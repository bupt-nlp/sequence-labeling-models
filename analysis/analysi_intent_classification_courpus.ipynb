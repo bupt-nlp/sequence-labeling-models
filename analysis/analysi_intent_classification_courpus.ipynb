{
 "metadata": {
  "language_info": {
   "codemirror_mode": {
    "name": "ipython",
    "version": 3
   },
   "file_extension": ".py",
   "mimetype": "text/x-python",
   "name": "python",
   "nbconvert_exporter": "python",
   "pygments_lexer": "ipython3",
   "version": "3.8.6"
  },
  "orig_nbformat": 2,
  "kernelspec": {
   "name": "python386jvsc74a57bd0ee35d9cfcc64dec8a1246980a289fddaa1276d9cbeafe5fd8500513686ebd603",
   "display_name": "Python 3.8.6 64-bit ('allennlp': conda)"
  }
 },
 "nbformat": 4,
 "nbformat_minor": 2,
 "cells": [
  {
   "cell_type": "code",
   "execution_count": 13,
   "metadata": {},
   "outputs": [],
   "source": [
    "import os, json\n",
    "import sys\n",
    "root_dir = '/home/human/wjj/temp/sequence-labeling-models'\n",
    "sys.path.insert(0, root_dir)\n",
    "from src.schema import TextClassificationExample\n",
    "from utils.dataset_processor import read_text_classification_examples\n",
    "\n",
    "# file = os.path.join(root_dir, 'data/clinc/intent-classification/clinc150.json.corpus')\n",
    "# file = os.path.join(root_dir, 'data/ask_ubuntu/intent-classification/ask_ubuntu.json.corpus')\n",
    "file = os.path.join(root_dir, 'data/banking/intent-classification/banking77.json.corpus')\n",
    "examples = read_text_classification_examples(file)"
   ]
  },
  {
   "cell_type": "code",
   "execution_count": 14,
   "metadata": {},
   "outputs": [
    {
     "output_type": "stream",
     "name": "stdout",
     "text": [
      "defaultdict(<class 'int'>, {'card_arrival': 193, 'card_linking': 179, 'exchange_rate': 152, 'card_payment_wrong_exchange_rate': 207, 'extra_charge_on_statement': 206, 'pending_cash_withdrawal': 183, 'fiat_currency_support': 166, 'card_delivery_estimate': 152, 'automatic_top_up': 167, 'card_not_working': 152, 'exchange_via_app': 158, 'lost_or_stolen_card': 122, 'age_limit': 150, 'pin_blocked': 155, 'contactless_not_working': 75, 'top_up_by_bank_transfer_charge': 151, 'pending_top_up': 189, 'cancel_transfer': 197, 'top_up_limits': 137, 'wrong_amount_of_cash_received': 220, 'card_payment_fee_charged': 227, 'transfer_not_received_by_recipient': 211, 'supported_cards_and_currencies': 169, 'getting_virtual_card': 138, 'card_acceptance': 99, 'top_up_reverted': 186, 'balance_not_updated_after_cheque_or_cash_deposit': 221, 'card_payment_not_recognised': 208, 'edit_personal_details': 161, 'why_verify_identity': 161, 'unable_to_verify_identity': 142, 'get_physical_card': 146, 'visa_or_mastercard': 175, 'topping_up_by_card': 143, 'disposable_card_limits': 161, 'compromised_card': 126, 'atm_support': 127, 'direct_debit_payment_not_recognised': 222, 'passcode_forgotten': 145, 'declined_cash_withdrawal': 213, 'pending_card_payment': 199, 'lost_or_stolen_phone': 161, 'request_refund': 209, 'declined_transfer': 173, 'refund_not_showing_up': 202, 'declined_card_payment': 193, 'pending_transfer': 188, 'terminate_account': 148, 'card_swallowed': 101, 'transaction_charged_twice': 215, 'verify_source_of_funds': 153, 'transfer_timing': 168, 'reverted_card_payment?': 201, 'change_pin': 162, 'beneficiary_not_allowed': 196, 'transfer_fee_charged': 212, 'receiving_money': 135, 'failed_transfer': 177, 'transfer_into_account': 153, 'verify_top_up': 166, 'getting_spare_card': 169, 'top_up_by_cash_or_cheque': 154, 'order_physical_card': 160, 'virtual_card_not_working': 81, 'wrong_exchange_rate_for_cash_withdrawal': 203, 'get_disposable_virtual_card': 137, 'top_up_failed': 185, 'balance_not_updated_after_bank_transfer': 211, 'cash_withdrawal_not_recognised': 200, 'exchange_charge': 161, 'top_up_by_card_charge': 154, 'activate_my_card': 199, 'cash_withdrawal_charge': 217, 'card_about_to_expire': 169, 'apple_pay_or_google_pay': 166, 'verify_my_identity': 144, 'country_support': 169})\n"
     ]
    }
   ],
   "source": [
    "# 1. 统计不同类的分布情况\n",
    "\n",
    "from collections import Counter, defaultdict\n",
    "\n",
    "label_count = defaultdict(int)\n",
    "for example in examples:\n",
    "    label_count[example.label] += 1\n",
    "\n",
    "print(label_count)"
   ]
  },
  {
   "cell_type": "code",
   "execution_count": null,
   "metadata": {},
   "outputs": [],
   "source": []
  }
 ]
}